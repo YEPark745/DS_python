{
 "cells": [
  {
   "cell_type": "code",
   "execution_count": 2,
   "id": "e82aa596",
   "metadata": {},
   "outputs": [
    {
     "name": "stdout",
     "output_type": "stream",
     "text": [
      "Hello Python!\n"
     ]
    }
   ],
   "source": [
    "print('Hello Python!')"
   ]
  },
  {
   "cell_type": "code",
   "execution_count": 4,
   "id": "241a54c7",
   "metadata": {},
   "outputs": [
    {
     "name": "stdout",
     "output_type": "stream",
     "text": [
      "Find the max number.\n"
     ]
    }
   ],
   "source": [
    "print('Find the max number.')"
   ]
  },
  {
   "cell_type": "code",
   "execution_count": 7,
   "id": "23e0de0d",
   "metadata": {},
   "outputs": [
    {
     "name": "stdout",
     "output_type": "stream",
     "text": [
      "Enter a: 9\n"
     ]
    }
   ],
   "source": [
    "a=int(input('Enter a: '))"
   ]
  },
  {
   "cell_type": "code",
   "execution_count": 8,
   "id": "1ef09f77",
   "metadata": {},
   "outputs": [
    {
     "name": "stdout",
     "output_type": "stream",
     "text": [
      "Enter b: 100\n"
     ]
    }
   ],
   "source": [
    "b=int(input('Enter b: '))"
   ]
  },
  {
   "cell_type": "code",
   "execution_count": 9,
   "id": "2a16a07e",
   "metadata": {},
   "outputs": [
    {
     "name": "stdout",
     "output_type": "stream",
     "text": [
      "Enter c: 77\n"
     ]
    }
   ],
   "source": [
    "c=int(input('Enter c: '))"
   ]
  },
  {
   "cell_type": "code",
   "execution_count": 12,
   "id": "d721a4b9",
   "metadata": {},
   "outputs": [
    {
     "name": "stdout",
     "output_type": "stream",
     "text": [
      "The max is 100.\n"
     ]
    }
   ],
   "source": [
    "max=a\n",
    "if b> max: max=b\n",
    "if c>max: max=c\n",
    "    \n",
    "print(f'The max is {max}.')\n"
   ]
  },
  {
   "cell_type": "code",
   "execution_count": 15,
   "id": "6c6ddf41",
   "metadata": {},
   "outputs": [
    {
     "name": "stdout",
     "output_type": "stream",
     "text": [
      "This is select structure.\n"
     ]
    }
   ],
   "source": [
    "print('This is select structure.')"
   ]
  },
  {
   "cell_type": "markdown",
   "id": "08114d8e",
   "metadata": {},
   "source": []
  }
 ],
 "metadata": {
  "kernelspec": {
   "display_name": "Python 3",
   "language": "python",
   "name": "python3"
  },
  "language_info": {
   "codemirror_mode": {
    "name": "ipython",
    "version": 3
   },
   "file_extension": ".py",
   "mimetype": "text/x-python",
   "name": "python",
   "nbconvert_exporter": "python",
   "pygments_lexer": "ipython3",
   "version": "3.8.8"
  }
 },
 "nbformat": 4,
 "nbformat_minor": 5
}
