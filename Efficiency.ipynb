{
 "cells": [
  {
   "cell_type": "code",
   "execution_count": 1,
   "id": "84f03903",
   "metadata": {},
   "outputs": [],
   "source": [
    "# For efficiency"
   ]
  },
  {
   "cell_type": "code",
   "execution_count": 2,
   "id": "1cc71e06",
   "metadata": {},
   "outputs": [
    {
     "name": "stdout",
     "output_type": "stream",
     "text": [
      "Please enter two numbers below\n"
     ]
    }
   ],
   "source": [
    "print(f'Please enter two numbers below')"
   ]
  },
  {
   "cell_type": "code",
   "execution_count": 50,
   "id": "27b473d7",
   "metadata": {},
   "outputs": [
    {
     "name": "stdout",
     "output_type": "stream",
     "text": [
      "1\n"
     ]
    }
   ],
   "source": [
    "a=int(input())"
   ]
  },
  {
   "cell_type": "code",
   "execution_count": 51,
   "id": "58029dcb",
   "metadata": {},
   "outputs": [
    {
     "name": "stdout",
     "output_type": "stream",
     "text": [
      "100\n"
     ]
    }
   ],
   "source": [
    "b=int(input())"
   ]
  },
  {
   "cell_type": "code",
   "execution_count": 52,
   "id": "f2773225",
   "metadata": {},
   "outputs": [
    {
     "name": "stdout",
     "output_type": "stream",
     "text": [
      "Please show all numbers\n"
     ]
    }
   ],
   "source": [
    "print(f'Please show all numbers')"
   ]
  },
  {
   "cell_type": "code",
   "execution_count": 53,
   "id": "0b58f071",
   "metadata": {},
   "outputs": [
    {
     "name": "stdout",
     "output_type": "stream",
     "text": [
      "1+2+3+4+5+6+7+8+9+10+11+12+13+14+15+16+17+18+19+20+21+22+23+24+25+26+27+28+29+30+31+32+33+34+35+36+37+38+39+40+41+42+43+44+45+46+47+48+49+50+51+52+53+54+55+56+57+58+59+60+61+62+63+64+65+66+67+68+69+70+71+72+73+74+75+76+77+78+79+80+81+82+83+84+85+86+87+88+89+90+91+92+93+94+95+96+97+98+99+100=5050\n"
     ]
    }
   ],
   "source": [
    "\n",
    "\n",
    "if a>b:\n",
    "    a,b=b,a\n",
    "sum=0    \n",
    "for i in range (a, b+1):\n",
    "    if i<b:\n",
    "        print(f'{i}+', end='')\n",
    "    else:\n",
    "        print(f'{i}=', end='')\n",
    "    sum+=i\n",
    "\n",
    "print(sum)\n"
   ]
  },
  {
   "cell_type": "code",
   "execution_count": 57,
   "id": "3f9c662e",
   "metadata": {},
   "outputs": [
    {
     "name": "stdout",
     "output_type": "stream",
     "text": [
      "above if and else loop is not a good way to sum a to b. Below is faster. Means better Algorithm\n"
     ]
    }
   ],
   "source": [
    "print('above if and else loop is not a good way to sum a to b. Below is faster. Means better Algorithm')"
   ]
  },
  {
   "cell_type": "code",
   "execution_count": 55,
   "id": "213a4573",
   "metadata": {},
   "outputs": [
    {
     "name": "stdout",
     "output_type": "stream",
     "text": [
      "1 + 2 + 3 + 4 + 5 + 6 + 7 + 8 + 9 + 10 + 11 + 12 + 13 + 14 + 15 + 16 + 17 + 18 + 19 + 20 + 21 + 22 + 23 + 24 + 25 + 26 + 27 + 28 + 29 + 30 + 31 + 32 + 33 + 34 + 35 + 36 + 37 + 38 + 39 + 40 + 41 + 42 + 43 + 44 + 45 + 46 + 47 + 48 + 49 + 50 + 51 + 52 + 53 + 54 + 55 + 56 + 57 + 58 + 59 + 60 + 61 + 62 + 63 + 64 + 65 + 66 + 67 + 68 + 69 + 70 + 71 + 72 + 73 + 74 + 75 + 76 + 77 + 78 + 79 + 80 + 81 + 82 + 83 + 84 + 85 + 86 + 87 + 88 + 89 + 90 + 91 + 92 + 93 + 94 + 95 + 96 + 97 + 98 + 99 + 100 =5050\n"
     ]
    }
   ],
   "source": [
    "if a>b:\n",
    "    a,b=b,a\n",
    "    \n",
    "sum=0\n",
    "for i in range (a, b):\n",
    "    print(f'{i} + ',end='')\n",
    "    sum+=i\n",
    "print(f'{b} =', end='')\n",
    "sum+=b\n",
    "\n",
    "print(sum)\n",
    "\n",
    "    "
   ]
  },
  {
   "cell_type": "code",
   "execution_count": 92,
   "id": "54231419",
   "metadata": {},
   "outputs": [
    {
     "name": "stdout",
     "output_type": "stream",
     "text": [
      "print + and - alternatively\n",
      "11\n"
     ]
    }
   ],
   "source": [
    "print(f'print + and - alternatively')\n",
    "n=int(input())"
   ]
  },
  {
   "cell_type": "code",
   "execution_count": 93,
   "id": "2040de33",
   "metadata": {},
   "outputs": [
    {
     "name": "stdout",
     "output_type": "stream",
     "text": [
      "+-+-+-+-+-+"
     ]
    }
   ],
   "source": [
    "for i in range(n):\n",
    "    if i%2:\n",
    "        print('-', end='')\n",
    "    else:\n",
    "        print('+', end='')"
   ]
  },
  {
   "cell_type": "code",
   "execution_count": 95,
   "id": "52395d9a",
   "metadata": {},
   "outputs": [
    {
     "name": "stdout",
     "output_type": "stream",
     "text": [
      "+-+-+-+-+-+\n"
     ]
    }
   ],
   "source": [
    "for _ in range(n//2):\n",
    "    print('+-',end='')\n",
    "if n%2:\n",
    "    print('+',end='')\n",
    "print()"
   ]
  },
  {
   "cell_type": "code",
   "execution_count": 87,
   "id": "1bcb6c80",
   "metadata": {},
   "outputs": [
    {
     "name": "stdout",
     "output_type": "stream",
     "text": [
      "You can use - when you do not need to use index numbers\n"
     ]
    }
   ],
   "source": [
    "print(f'You can use - when you do not need to use index numbers')"
   ]
  },
  {
   "cell_type": "code",
   "execution_count": null,
   "id": "e7105f99",
   "metadata": {},
   "outputs": [],
   "source": []
  }
 ],
 "metadata": {
  "kernelspec": {
   "display_name": "Python 3",
   "language": "python",
   "name": "python3"
  },
  "language_info": {
   "codemirror_mode": {
    "name": "ipython",
    "version": 3
   },
   "file_extension": ".py",
   "mimetype": "text/x-python",
   "name": "python",
   "nbconvert_exporter": "python",
   "pygments_lexer": "ipython3",
   "version": "3.8.8"
  }
 },
 "nbformat": 4,
 "nbformat_minor": 5
}
